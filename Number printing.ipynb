{
 "cells": [
  {
   "cell_type": "code",
   "execution_count": 10,
   "id": "7d3ab11d",
   "metadata": {
    "scrolled": true
   },
   "outputs": [
    {
     "name": "stdout",
     "output_type": "stream",
     "text": [
      "1 1 1 1 1 \n",
      "\n",
      "2 2 2 2 2 \n",
      "\n",
      "3 3 3 3 3 \n",
      "\n",
      "4 4 4 4 4 \n",
      "\n",
      "5 5 5 5 5 \n",
      "\n"
     ]
    }
   ],
   "source": [
    "# 1111\n",
    "# 2222\n",
    "# 3333\n",
    "# 4444\n",
    "# 5555\n",
    "for i in range(1,6):\n",
    "    for j in range(1,6):\n",
    "        print(i,end=\" \")\n",
    "    print(\"\\n\")    \n",
    "    "
   ]
  },
  {
   "cell_type": "code",
   "execution_count": 11,
   "id": "942ed912",
   "metadata": {},
   "outputs": [
    {
     "name": "stdout",
     "output_type": "stream",
     "text": [
      "5 5 5 5 5 \n",
      "\n",
      "4 4 4 4 4 \n",
      "\n",
      "3 3 3 3 3 \n",
      "\n",
      "2 2 2 2 2 \n",
      "\n",
      "1 1 1 1 1 \n",
      "\n"
     ]
    }
   ],
   "source": [
    "# 55555\n",
    "# 44444\n",
    "# 33333\n",
    "# 22222\n",
    "# 11111\n",
    "for i in range(5,0,-1):\n",
    "    for j in range(5,0,-1):\n",
    "        print(i,end=\" \")\n",
    "    print(\"\\n\")    "
   ]
  },
  {
   "cell_type": "code",
   "execution_count": 12,
   "id": "03ec98ba",
   "metadata": {},
   "outputs": [
    {
     "name": "stdout",
     "output_type": "stream",
     "text": [
      "1 \n",
      "\n",
      "2 2 \n",
      "\n",
      "3 3 3 \n",
      "\n",
      "4 4 4 4 \n",
      "\n",
      "5 5 5 5 5 \n",
      "\n"
     ]
    }
   ],
   "source": [
    "# 1\n",
    "# 22\n",
    "# 333\n",
    "# 4444\n",
    "# 55555\n",
    "for i in range(1,6):\n",
    "    for j in range(1,i+1):\n",
    "        print(i,end=\" \")\n",
    "    print(\"\\n\")    \n"
   ]
  },
  {
   "cell_type": "code",
   "execution_count": 13,
   "id": "fde4095f",
   "metadata": {},
   "outputs": [
    {
     "name": "stdout",
     "output_type": "stream",
     "text": [
      "5 \n",
      "\n",
      "4 4 \n",
      "\n",
      "3 3 3 \n",
      "\n",
      "2 2 2 2 \n",
      "\n",
      "1 1 1 1 1 \n",
      "\n"
     ]
    }
   ],
   "source": [
    "# 5\n",
    "# 44\n",
    "# 333\n",
    "# 2222\n",
    "# 11111\n",
    "for i in range(5,0,-1):\n",
    "    for j in range(1,7-i):\n",
    "        print(i,end=\" \")\n",
    "    print(\"\\n\")    \n",
    "    "
   ]
  },
  {
   "cell_type": "code",
   "execution_count": 14,
   "id": "eeb4b96e",
   "metadata": {},
   "outputs": [
    {
     "name": "stdout",
     "output_type": "stream",
     "text": [
      "5 \n",
      "\n",
      "4 4 \n",
      "\n",
      "3 3 3 \n",
      "\n",
      "2 2 2 2 \n",
      "\n",
      "1 1 1 1 1 \n",
      "\n"
     ]
    }
   ],
   "source": [
    "# 5\n",
    "# 44\n",
    "# 333\n",
    "# 2222\n",
    "# 11111\n",
    "for i in range(5,0,-1):\n",
    "    for j in range(1,i-5,-1):\n",
    "        print(i,end=\" \")\n",
    "    print(\"\\n\")    \n",
    "    "
   ]
  },
  {
   "cell_type": "code",
   "execution_count": 15,
   "id": "671f0180",
   "metadata": {},
   "outputs": [
    {
     "name": "stdout",
     "output_type": "stream",
     "text": [
      "5 5 5 5 5 \n",
      "\n",
      "4 4 4 4 \n",
      "\n",
      "3 3 3 \n",
      "\n",
      "2 2 \n",
      "\n",
      "1 \n",
      "\n"
     ]
    }
   ],
   "source": [
    "# 55555\n",
    "# 4444\n",
    "# 333\n",
    "# 22\n",
    "# 1\n",
    "for i in range(5,0,-1):\n",
    "    for j in range(i,0,-1):\n",
    "        print(i,end=\" \")\n",
    "    print(\"\\n\")    "
   ]
  },
  {
   "cell_type": "code",
   "execution_count": 18,
   "id": "78acc52a",
   "metadata": {},
   "outputs": [
    {
     "name": "stdout",
     "output_type": "stream",
     "text": [
      "1 2 3 4 5 \n",
      "\n",
      "1 2 3 4 5 \n",
      "\n",
      "1 2 3 4 5 \n",
      "\n",
      "1 2 3 4 5 \n",
      "\n",
      "1 2 3 4 5 \n",
      "\n"
     ]
    }
   ],
   "source": [
    "# 12345\n",
    "# 12345\n",
    "# 12345\n",
    "# 12345\n",
    "# 12345\n",
    "for i in range(5):\n",
    "    for j in range(1,6):\n",
    "        print(j,end=\" \")\n",
    "    print(\"\\n\")    "
   ]
  },
  {
   "cell_type": "code",
   "execution_count": 20,
   "id": "eee0b49d",
   "metadata": {},
   "outputs": [
    {
     "name": "stdout",
     "output_type": "stream",
     "text": [
      "5 4 3 2 1 \n",
      "\n",
      "5 4 3 2 1 \n",
      "\n",
      "5 4 3 2 1 \n",
      "\n",
      "5 4 3 2 1 \n",
      "\n",
      "5 4 3 2 1 \n",
      "\n"
     ]
    }
   ],
   "source": [
    "# 54321\n",
    "# 54321\n",
    "# 54321\n",
    "# 54321\n",
    "# 54321\n",
    "for i in range(5):\n",
    "    for j in range(5,0,-1):\n",
    "        print(j,end=\" \")\n",
    "    print(\"\\n\")    "
   ]
  },
  {
   "cell_type": "code",
   "execution_count": 21,
   "id": "c9ecca5a",
   "metadata": {},
   "outputs": [
    {
     "name": "stdout",
     "output_type": "stream",
     "text": [
      "1 \n",
      "\n",
      "1 2 \n",
      "\n",
      "1 2 3 \n",
      "\n",
      "1 2 3 4 \n",
      "\n",
      "1 2 3 4 5 \n",
      "\n"
     ]
    }
   ],
   "source": [
    "# 1\n",
    "# 12\n",
    "# 123\n",
    "# 1234\n",
    "# 12345\n",
    "for i in range(1,6):\n",
    "    for j in range(1,i+1):\n",
    "        print(j,end=\" \")\n",
    "    print(\"\\n\")    "
   ]
  },
  {
   "cell_type": "code",
   "execution_count": 23,
   "id": "6014fb46",
   "metadata": {},
   "outputs": [
    {
     "name": "stdout",
     "output_type": "stream",
     "text": [
      "\n",
      "\n",
      "5 \n",
      "\n",
      "5 4 \n",
      "\n",
      "5 4 3 \n",
      "\n",
      "5 4 3 2 \n",
      "\n",
      "5 4 3 2 1 \n",
      "\n"
     ]
    }
   ],
   "source": [
    "# 5\n",
    "# 54\n",
    "# 543\n",
    "# 5432\n",
    "# 54321\n",
    "for i in range(6):\n",
    "    for j in range(5,5-i,-1):\n",
    "        print(j,end=\" \")\n",
    "    print(\"\\n\")\n"
   ]
  },
  {
   "cell_type": "code",
   "execution_count": 26,
   "id": "f7590c1b",
   "metadata": {},
   "outputs": [
    {
     "name": "stdout",
     "output_type": "stream",
     "text": [
      "5 4 3 2 1 \n",
      "\n",
      "5 4 3 2 \n",
      "\n",
      "5 4 3 \n",
      "\n",
      "5 4 \n",
      "\n",
      "5 \n",
      "\n"
     ]
    }
   ],
   "source": [
    "# 54321\n",
    "# 5432\n",
    "# 543\n",
    "# 54\n",
    "# 5\n",
    "for i in range(5):\n",
    "    for j in range(5,i,-1):\n",
    "        print(j,end=\" \")\n",
    "    print(\"\\n\")"
   ]
  },
  {
   "cell_type": "code",
   "execution_count": 34,
   "id": "66b89406",
   "metadata": {},
   "outputs": [
    {
     "name": "stdout",
     "output_type": "stream",
     "text": [
      "1 2 3 4 5 \n",
      "\n",
      "  2 3 4 5 \n",
      "\n",
      "    3 4 5 \n",
      "\n",
      "      4 5 \n",
      "\n",
      "        5 \n",
      "\n"
     ]
    }
   ],
   "source": [
    "# 1 2 3 4 5\n",
    "#   2 3 4 5\n",
    "#     3 4 5\n",
    "#       4 5\n",
    "#         5\n",
    "\n",
    "for r in range(1,6):\n",
    "    for c in range(1,6):\n",
    "        if c>=r:\n",
    "            print(c,end=\" \")\n",
    "        else:\n",
    "            print(\" \", end=\" \")\n",
    "    print(\"\\n\")"
   ]
  },
  {
   "cell_type": "code",
   "execution_count": 50,
   "id": "16e4b52e",
   "metadata": {
    "scrolled": true
   },
   "outputs": [
    {
     "name": "stdout",
     "output_type": "stream",
     "text": [
      "          \n",
      "\n",
      "        1 \n",
      "\n",
      "      2 1 \n",
      "\n",
      "    3 2 1 \n",
      "\n",
      "  4 3 2 1 \n",
      "\n",
      "5 4 3 2 1 \n",
      "\n"
     ]
    }
   ],
   "source": [
    "#     1\n",
    "#    21\n",
    "#   321\n",
    "#  4321\n",
    "# 54321\n",
    "\n",
    "for i in range(6):##0,1,2,3,4\n",
    "    for j in range(5,0,-1):#5,4,3,2,1\n",
    "        if j<=i: \n",
    "            print(j,end=\" \")\n",
    "        else:\n",
    "            print(\" \",end=\" \")\n",
    "    print(\"\\n\")    "
   ]
  },
  {
   "cell_type": "code",
   "execution_count": 56,
   "id": "5020f66b",
   "metadata": {},
   "outputs": [
    {
     "name": "stdout",
     "output_type": "stream",
     "text": [
      "        5 \n",
      "\n",
      "      4 5 \n",
      "\n",
      "    3 4 5 \n",
      "\n",
      "  2 3 4 5 \n",
      "\n",
      "1 2 3 4 5 \n",
      "\n"
     ]
    }
   ],
   "source": [
    "#     5\n",
    "#    45\n",
    "#   345\n",
    "#  2345\n",
    "# 12345\n",
    "for i in range(5,0,-1):#012345\n",
    "    for j in range(1,6):#\n",
    "        if j>=i:\n",
    "            print(j,end=\" \")\n",
    "        else:\n",
    "            print(\" \",end=\" \")  \n",
    "        \n",
    "    print(\"\\n\")    \n"
   ]
  },
  {
   "cell_type": "code",
   "execution_count": 57,
   "id": "560690a8",
   "metadata": {},
   "outputs": [],
   "source": [
    "\n"
   ]
  }
 ],
 "metadata": {
  "kernelspec": {
   "display_name": "Python 3 (ipykernel)",
   "language": "python",
   "name": "python3"
  },
  "language_info": {
   "codemirror_mode": {
    "name": "ipython",
    "version": 3
   },
   "file_extension": ".py",
   "mimetype": "text/x-python",
   "name": "python",
   "nbconvert_exporter": "python",
   "pygments_lexer": "ipython3",
   "version": "3.9.7"
  }
 },
 "nbformat": 4,
 "nbformat_minor": 5
}
