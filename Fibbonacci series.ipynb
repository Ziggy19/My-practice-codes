{
 "cells": [
  {
   "cell_type": "code",
   "execution_count": 32,
   "id": "7de4bd0c",
   "metadata": {},
   "outputs": [
    {
     "name": "stdout",
     "output_type": "stream",
     "text": [
      "How many number you want to print  :\t10\n",
      "0 1 1 2 3 5 8 13 21 34 "
     ]
    }
   ],
   "source": [
    "# Fibbonacci series\n",
    "#0,1, 1, 2, 3, 5, 8, 13, 21, 34, 55, 89, 144, …….. ... F0 = 0 and F1 = 1.  \n",
    "a=0\n",
    "b=1\n",
    "c=0\n",
    "n=int(input(\"How many number you want to print  :\\t\"))\n",
    "if n<=0:\n",
    "    print(\"Enter valid numbers:\")\n",
    "elif n==1:\n",
    "    print(f\"sequence is {a}\")\n",
    "elif n>1:\n",
    "    print(a,b,end=\" \")\n",
    "    for i in range(2,n):\n",
    "        c=a+b\n",
    "        a=b\n",
    "        b=c\n",
    "        print(c,end=\" \")        \n"
   ]
  },
  {
   "cell_type": "code",
   "execution_count": null,
   "id": "1d0480b1",
   "metadata": {},
   "outputs": [],
   "source": []
  }
 ],
 "metadata": {
  "kernelspec": {
   "display_name": "Python 3 (ipykernel)",
   "language": "python",
   "name": "python3"
  },
  "language_info": {
   "codemirror_mode": {
    "name": "ipython",
    "version": 3
   },
   "file_extension": ".py",
   "mimetype": "text/x-python",
   "name": "python",
   "nbconvert_exporter": "python",
   "pygments_lexer": "ipython3",
   "version": "3.9.7"
  }
 },
 "nbformat": 4,
 "nbformat_minor": 5
}
