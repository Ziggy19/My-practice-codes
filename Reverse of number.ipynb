{
 "cells": [
  {
   "cell_type": "code",
   "execution_count": 4,
   "id": "6c3be99f",
   "metadata": {},
   "outputs": [
    {
     "name": "stdout",
     "output_type": "stream",
     "text": [
      "Enter number:\t4567\n",
      "reverse of the number is:\t7654"
     ]
    }
   ],
   "source": [
    "#Write a program to reverse a number in Python\n",
    "n=int(input(\"Enter number:\\t\"))\n",
    "lenth=len(str(n))\n",
    "rev=0\n",
    "print(\"reverse of the number is:\\t\", end=\"\")\n",
    "for i in range(lenth):\n",
    "    digit=n%10\n",
    "    print(digit, end=\"\")\n",
    "    n=n//10\n",
    "    \n",
    " \n",
    "    "
   ]
  },
  {
   "cell_type": "code",
   "execution_count": null,
   "id": "70bd8a25",
   "metadata": {},
   "outputs": [],
   "source": []
  }
 ],
 "metadata": {
  "kernelspec": {
   "display_name": "Python 3 (ipykernel)",
   "language": "python",
   "name": "python3"
  },
  "language_info": {
   "codemirror_mode": {
    "name": "ipython",
    "version": 3
   },
   "file_extension": ".py",
   "mimetype": "text/x-python",
   "name": "python",
   "nbconvert_exporter": "python",
   "pygments_lexer": "ipython3",
   "version": "3.9.7"
  }
 },
 "nbformat": 4,
 "nbformat_minor": 5
}
