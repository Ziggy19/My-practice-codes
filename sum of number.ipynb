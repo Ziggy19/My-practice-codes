{
 "cells": [
  {
   "cell_type": "code",
   "execution_count": 6,
   "id": "6c3be99f",
   "metadata": {},
   "outputs": [
    {
     "name": "stdout",
     "output_type": "stream",
     "text": [
      "Enter number:\t123\n",
      "reverse of the number is:\t6\n"
     ]
    }
   ],
   "source": [
    "#Write a program to sum of numbers in Python\n",
    "n=int(input(\"Enter number:\\t\"))\n",
    "lenth=len(str(n))\n",
    "total=0\n",
    "print(\"reverse of the number is:\\t\", end=\"\")\n",
    "for i in range(lenth):\n",
    "    digit=n%10\n",
    "    total=total+digit\n",
    "    #print(digit, end=\"\")\n",
    "    n=n//10\n",
    "print(total)    \n",
    "    \n",
    " \n",
    "    "
   ]
  },
  {
   "cell_type": "code",
   "execution_count": null,
   "id": "467d7a9d",
   "metadata": {},
   "outputs": [],
   "source": []
  }
 ],
 "metadata": {
  "kernelspec": {
   "display_name": "Python 3 (ipykernel)",
   "language": "python",
   "name": "python3"
  },
  "language_info": {
   "codemirror_mode": {
    "name": "ipython",
    "version": 3
   },
   "file_extension": ".py",
   "mimetype": "text/x-python",
   "name": "python",
   "nbconvert_exporter": "python",
   "pygments_lexer": "ipython3",
   "version": "3.9.7"
  }
 },
 "nbformat": 4,
 "nbformat_minor": 5
}
