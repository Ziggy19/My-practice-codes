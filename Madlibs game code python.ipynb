{
 "cells": [
  {
   "cell_type": "markdown",
   "id": "2bf8173b",
   "metadata": {},
   "source": [
    "# Mad Libs Game"
   ]
  },
  {
   "cell_type": "code",
   "execution_count": 5,
   "id": "ffc1d6d3",
   "metadata": {},
   "outputs": [
    {
     "name": "stdout",
     "output_type": "stream",
     "text": [
      "I am ----- . I belong to ------. I completed my ------- from ----- in -----.I score ----- marks. coming to my family background My father name is -----. I have ----- siblings. my frvorate food is , my fevorate color is ----.\n",
      "\n",
      "\n",
      "\n",
      "\n",
      "Enter your name?\tGangeshwari\n",
      "where do you live?\tRaipur\n",
      "what is your College name?\tGEC Raipur\n",
      "what is your hieghest qualification?\tB-tech\n",
      "which field you have studies?CSE\n",
      "what is your percentage?\t67\n",
      "what is your father_name?\tBhagi Ram Netam\n",
      "how many siblings you have?\t0\n",
      "what is your fevorate food?\tPaneer Chilli\n",
      "what is your fevorate color?\tGreen\n",
      "\n",
      "\n",
      "\n",
      "\n",
      "I am Gangeshwari . I belong to Raipur. I completed my B-tech from GEC Raipur in CSE. I score 67 marks. coming to my family background My father name is Bhagi Ram Netam. I have 0 siblings. my frvorate food is Paneer Chilli, my fevorate color is Green.\n"
     ]
    }
   ],
   "source": [
    "#Fill in the box game\n",
    "print(f\"I am ----- . I belong to ------. I completed my ------- from ----- in -----.I score ----- marks. coming to my family background My father name is -----. I have ----- siblings. my frvorate food is , my fevorate color is ----.\")\n",
    "print(\"\\n\")\n",
    "print(\"\\n\")\n",
    "\n",
    "def madlibs():\n",
    "    global name,place,C_name, h_ual, percentage, fname, b_s, food, color, cs\n",
    "    name=input(\"Enter your name?\\t\")\n",
    "    place=input(\"where do you live?\\t\")\n",
    "    C_name=input(\"what is your College name?\\t\")\n",
    "    h_ual=input(\"what is your hieghest qualification?\\t\")\n",
    "    cs=input(\"which field you have studies?\")\n",
    "    percentage=int(input(\"what is your percentage?\\t\"))\n",
    "    fname=input(\"what is your father_name?\\t\")\n",
    "    b_s=int(input(\"how many siblings you have?\\t\"))\n",
    "    food=input(\"what is your fevorate food?\\t\")\n",
    "    color=input(\"what is your fevorate color?\\t\")\n",
    "\n",
    "    \n",
    "def about_me():\n",
    "    print(f\"I am {name} . I belong to {place}. I completed my {h_ual} from {C_name} in {cs}. I score {percentage} marks. coming to my family background My father name is {fname}. I have {b_s} siblings. my frvorate food is {food}, my fevorate color is {color}.\")\n",
    "    \n",
    "madlibs()\n",
    "print(\"\\n\")\n",
    "print(\"\\n\")\n",
    "about_me()"
   ]
  },
  {
   "cell_type": "code",
   "execution_count": null,
   "id": "a733d77e",
   "metadata": {},
   "outputs": [],
   "source": []
  }
 ],
 "metadata": {
  "kernelspec": {
   "display_name": "Python 3 (ipykernel)",
   "language": "python",
   "name": "python3"
  },
  "language_info": {
   "codemirror_mode": {
    "name": "ipython",
    "version": 3
   },
   "file_extension": ".py",
   "mimetype": "text/x-python",
   "name": "python",
   "nbconvert_exporter": "python",
   "pygments_lexer": "ipython3",
   "version": "3.9.7"
  }
 },
 "nbformat": 4,
 "nbformat_minor": 5
}
