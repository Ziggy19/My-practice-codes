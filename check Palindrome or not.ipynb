{
 "cells": [
  {
   "cell_type": "code",
   "execution_count": 10,
   "id": "6c3be99f",
   "metadata": {},
   "outputs": [
    {
     "name": "stdout",
     "output_type": "stream",
     "text": [
      "Enter number:\t151\n",
      "reverse of the number is:\t151\n",
      "number is Palindrome\n"
     ]
    }
   ],
   "source": [
    "#Write a Python Program to Check if a Number is a Palindrome or not? \n",
    "n=int(input(\"Enter number:\\t\"))\n",
    "new=n\n",
    "lenth=len(str(n))\n",
    "rev=0\n",
    "print(\"reverse of the number is:\\t\", end=\"\")\n",
    "for i in range(lenth):\n",
    "    digit=n%10\n",
    "    rev=rev*10+digit\n",
    "    #print(rev, end=\"\")\n",
    "    n=n//10   \n",
    "print(rev)\n",
    "if new==rev:\n",
    "    print(\"number is Palindrome\")\n",
    "elif new!=rev:\n",
    "    print(\"number is not Palindrome\")"
   ]
  },
  {
   "cell_type": "code",
   "execution_count": null,
   "id": "cc843eb9",
   "metadata": {},
   "outputs": [],
   "source": []
  }
 ],
 "metadata": {
  "kernelspec": {
   "display_name": "Python 3 (ipykernel)",
   "language": "python",
   "name": "python3"
  },
  "language_info": {
   "codemirror_mode": {
    "name": "ipython",
    "version": 3
   },
   "file_extension": ".py",
   "mimetype": "text/x-python",
   "name": "python",
   "nbconvert_exporter": "python",
   "pygments_lexer": "ipython3",
   "version": "3.9.7"
  }
 },
 "nbformat": 4,
 "nbformat_minor": 5
}
