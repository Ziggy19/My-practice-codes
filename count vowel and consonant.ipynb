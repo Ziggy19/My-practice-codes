{
 "cells": [
  {
   "cell_type": "code",
   "execution_count": 5,
   "id": "665d77a3",
   "metadata": {},
   "outputs": [
    {
     "name": "stdout",
     "output_type": "stream",
     "text": [
      "Enter String You want to check:\tZiggy\n",
      "you entered :\t Ziggy\n",
      "number of vowel is:\t 1\n",
      "number of consonant is:\t 4\n"
     ]
    }
   ],
   "source": [
    "# Write a Python Program to Count the Number of Vowels and consonant in a String?\n",
    "c=0\n",
    "d=0\n",
    "s= input(\"Enter String You want to check:\\t\")\n",
    "for i in s:\n",
    "    if i in \"AEIOUaeiou\":\n",
    "        c=c+1\n",
    "    elif i in \"BCDFGHJKLMNPQRSTVWXYZbcdfghjklmnopqrstvwxyz\"  :\n",
    "        d=d+1\n",
    "print(\"you entered :\\t\",s)    \n",
    "print(\"number of vowel is:\\t\",c)\n",
    "print(\"number of consonant is:\\t\",d)\n"
   ]
  },
  {
   "cell_type": "code",
   "execution_count": null,
   "id": "642c463e",
   "metadata": {},
   "outputs": [],
   "source": []
  }
 ],
 "metadata": {
  "kernelspec": {
   "display_name": "Python 3 (ipykernel)",
   "language": "python",
   "name": "python3"
  },
  "language_info": {
   "codemirror_mode": {
    "name": "ipython",
    "version": 3
   },
   "file_extension": ".py",
   "mimetype": "text/x-python",
   "name": "python",
   "nbconvert_exporter": "python",
   "pygments_lexer": "ipython3",
   "version": "3.9.7"
  }
 },
 "nbformat": 4,
 "nbformat_minor": 5
}
