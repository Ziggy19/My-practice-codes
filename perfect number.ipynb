{
 "cells": [
  {
   "cell_type": "code",
   "execution_count": 40,
   "id": "6c3be99f",
   "metadata": {},
   "outputs": [
    {
     "name": "stdout",
     "output_type": "stream",
     "text": [
      "Enter number:\t28\n",
      "sum is 28\n",
      "This is perfect number\n"
     ]
    }
   ],
   "source": [
    "#Write a Python Program to Check if a Number is a Perfect Number\n",
    "# In number theory, a perfect number is a positive integer that is equal to the sum of its positive divisors,\n",
    "# excluding the number itself. For instance, 6 has divisors 1, 2 and 3, and 1 + 2 + 3 = 6, so 6 is a perfect number.\n",
    "sum=0\n",
    "n=int(input(\"Enter number:\\t\"))\n",
    "for i in range(1,n):\n",
    "    num=n%i\n",
    "    if num==0:\n",
    "        sum=sum+i        \n",
    "print(f\"sum is {sum}\")\n",
    "if sum==n:\n",
    "    print(\"This is perfect number\")\n",
    "else:\n",
    "    print(\"number is not perfect number\")\n",
    "        \n",
    "        \n"
   ]
  },
  {
   "cell_type": "code",
   "execution_count": null,
   "id": "c9fa8f9c",
   "metadata": {},
   "outputs": [],
   "source": []
  }
 ],
 "metadata": {
  "kernelspec": {
   "display_name": "Python 3 (ipykernel)",
   "language": "python",
   "name": "python3"
  },
  "language_info": {
   "codemirror_mode": {
    "name": "ipython",
    "version": 3
   },
   "file_extension": ".py",
   "mimetype": "text/x-python",
   "name": "python",
   "nbconvert_exporter": "python",
   "pygments_lexer": "ipython3",
   "version": "3.9.7"
  }
 },
 "nbformat": 4,
 "nbformat_minor": 5
}
