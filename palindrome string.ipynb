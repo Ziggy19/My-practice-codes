{
 "cells": [
  {
   "cell_type": "code",
   "execution_count": 1,
   "id": "bdb51110",
   "metadata": {},
   "outputs": [
    {
     "name": "stdout",
     "output_type": "stream",
     "text": [
      "Enter String You want to check:\tMaDaM\n",
      "MaDaM\n",
      "sring is palindrome\n"
     ]
    }
   ],
   "source": [
    "# Write a Python Program to Check if a String is a Palindrome or Not?\n",
    "s= input(\"Enter String You want to check:\\t\")\n",
    "s2= s[::-1]\n",
    "print(s2)\n",
    "if s==s2:\n",
    "    print(\"sring is palindrome\")\n",
    "else :\n",
    "    print(\"string is not palindrome\")\n",
    "\n",
    "\n",
    "\n"
   ]
  },
  {
   "cell_type": "code",
   "execution_count": null,
   "id": "566d1aca",
   "metadata": {},
   "outputs": [],
   "source": []
  }
 ],
 "metadata": {
  "kernelspec": {
   "display_name": "Python 3 (ipykernel)",
   "language": "python",
   "name": "python3"
  },
  "language_info": {
   "codemirror_mode": {
    "name": "ipython",
    "version": 3
   },
   "file_extension": ".py",
   "mimetype": "text/x-python",
   "name": "python",
   "nbconvert_exporter": "python",
   "pygments_lexer": "ipython3",
   "version": "3.9.7"
  }
 },
 "nbformat": 4,
 "nbformat_minor": 5
}
