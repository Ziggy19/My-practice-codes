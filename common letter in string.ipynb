{
 "cells": [
  {
   "cell_type": "code",
   "execution_count": 10,
   "id": "4f723087",
   "metadata": {},
   "outputs": [
    {
     "name": "stdout",
     "output_type": "stream",
     "text": [
      "Enter first string:\tZiggy\n",
      "Enter 2nd string:\tMiggy\n",
      "first string :\t Ziggy\n",
      "2nd string :\t Miggy\n",
      "common letters are :\n",
      "i\n",
      "g\n",
      "y\n"
     ]
    }
   ],
   "source": [
    "# Write a Python Program to Check Common Letters in Two Input Strings?\n",
    "c=0\n",
    "d=0\n",
    "s1=input(\"Enter first string:\\t\")\n",
    "s2=input(\"Enter 2nd string:\\t\")\n",
    "s4 = set(s1)\n",
    "s5 = set(s2)\n",
    "s3=s4&s5\n",
    "print(\"first string :\\t\",s1)    \n",
    "print(\"2nd string :\\t\",s2)\n",
    "print(\"common letters are :\")\n",
    "for i in s3: \n",
    "    print(i)\n",
    "\n",
    "\n",
    "\n"
   ]
  },
  {
   "cell_type": "code",
   "execution_count": null,
   "id": "da9ae6df",
   "metadata": {},
   "outputs": [],
   "source": []
  }
 ],
 "metadata": {
  "kernelspec": {
   "display_name": "Python 3 (ipykernel)",
   "language": "python",
   "name": "python3"
  },
  "language_info": {
   "codemirror_mode": {
    "name": "ipython",
    "version": 3
   },
   "file_extension": ".py",
   "mimetype": "text/x-python",
   "name": "python",
   "nbconvert_exporter": "python",
   "pygments_lexer": "ipython3",
   "version": "3.9.7"
  }
 },
 "nbformat": 4,
 "nbformat_minor": 5
}
