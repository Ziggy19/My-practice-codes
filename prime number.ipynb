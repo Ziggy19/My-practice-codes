{
 "cells": [
  {
   "cell_type": "code",
   "execution_count": 20,
   "id": "6c3be99f",
   "metadata": {},
   "outputs": [
    {
     "name": "stdout",
     "output_type": "stream",
     "text": [
      "Enter number:\t23\n",
      "2\n",
      "23 is prime number\n"
     ]
    }
   ],
   "source": [
    "# Write a Python Program to Check if a Number is a Prime Number?\n",
    "# Any positive number greater than 1 is only divisible by two numbers i.e. 1 and the number itself is called a prime number.\n",
    "# There is no way to divide a prime number by any other number without getting a remainder.\n",
    "\n",
    "n=int(input(\"Enter number:\\t\"))\n",
    "c=0\n",
    "for i in range(1,n+1):\n",
    "    a= n%i\n",
    "    if a==0:\n",
    "        c=c+1\n",
    "print(c)\n",
    "if c==2:\n",
    "    print(f\"{n} is prime number\")\n",
    "else:\n",
    "    print(f\"{n} is not prime\")\n",
    "\n",
    "    \n",
    "    "
   ]
  },
  {
   "cell_type": "code",
   "execution_count": null,
   "id": "da1939b6",
   "metadata": {},
   "outputs": [],
   "source": []
  }
 ],
 "metadata": {
  "kernelspec": {
   "display_name": "Python 3 (ipykernel)",
   "language": "python",
   "name": "python3"
  },
  "language_info": {
   "codemirror_mode": {
    "name": "ipython",
    "version": 3
   },
   "file_extension": ".py",
   "mimetype": "text/x-python",
   "name": "python",
   "nbconvert_exporter": "python",
   "pygments_lexer": "ipython3",
   "version": "3.9.7"
  }
 },
 "nbformat": 4,
 "nbformat_minor": 5
}
