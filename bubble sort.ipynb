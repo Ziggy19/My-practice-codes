{
 "cells": [
  {
   "cell_type": "code",
   "execution_count": 2,
   "id": "b0646fce",
   "metadata": {},
   "outputs": [
    {
     "name": "stdout",
     "output_type": "stream",
     "text": [
      "how many number you want to Enter:\t5\n",
      "Enter value of 1  \t4\n",
      "Enter value of 2  \t7\n",
      "Enter value of 3  \t1\n",
      "Enter value of 4  \t3\n",
      "Enter value of 5  \t9\n",
      "[4, 7, 1, 3, 9]\n",
      "[1, 3, 4, 7, 9]\n"
     ]
    }
   ],
   "source": [
    "# Bubble Sort\n",
    "a=[]\n",
    "n=int(input(\"how many number you want to Enter:\\t\"))\n",
    "for i in range(n):\n",
    "    it=int(input(f\"Enter value of {i+1}  \\t\"))\n",
    "    a.append(it)\n",
    "print(a)    \n",
    "m=len(a)#3 \n",
    "for i in range(m-1):#0,1,2\n",
    "    for j in range(0, m-1-i):\n",
    "        if a[j]>a[j+1]:\n",
    "            a[j],a[j+1]=a[j+1],a[j]\n",
    "        \n",
    "print(a)            \n",
    "    "
   ]
  },
  {
   "cell_type": "code",
   "execution_count": null,
   "id": "07f2177b",
   "metadata": {},
   "outputs": [],
   "source": []
  }
 ],
 "metadata": {
  "kernelspec": {
   "display_name": "Python 3 (ipykernel)",
   "language": "python",
   "name": "python3"
  },
  "language_info": {
   "codemirror_mode": {
    "name": "ipython",
    "version": 3
   },
   "file_extension": ".py",
   "mimetype": "text/x-python",
   "name": "python",
   "nbconvert_exporter": "python",
   "pygments_lexer": "ipython3",
   "version": "3.9.7"
  }
 },
 "nbformat": 4,
 "nbformat_minor": 5
}
