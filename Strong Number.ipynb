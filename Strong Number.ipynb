{
 "cells": [
  {
   "cell_type": "code",
   "execution_count": 40,
   "id": "6c3be99f",
   "metadata": {},
   "outputs": [
    {
     "name": "stdout",
     "output_type": "stream",
     "text": [
      "Enter number:\t145\n",
      "factorial of 5 is :\t 120\n",
      "factorial of 4 is :\t 24\n",
      "factorial of 1 is :\t 1\n",
      "\n",
      "\n",
      "sum of factorial of digits is:\t 145\n",
      "given number is strong number\n"
     ]
    }
   ],
   "source": [
    "#Write a Python Program to Check if a Number is a Strong Number\n",
    "# Strong number is a number whose sum of all digits' factorial is equal to the number 'n'.\n",
    "#Factorial implies when we find the product of all the numbers below that number including that number\n",
    "#and is denoted by ! (Exclamation sign), \n",
    "#For example: 4! = 4x3x2x1 = 24.\n",
    "\n",
    "sum=0\n",
    "n=int(input(\"Enter number:\\t\"))\n",
    "temp=n\n",
    "lenth= len(str(n))\n",
    "for i in range(lenth):\n",
    "    fact=1\n",
    "    digit=temp%10\n",
    "    for j in range(digit,0,-1):        \n",
    "        fact=fact*j\n",
    "    print(f\"factorial of {digit} is :\\t\",fact)\n",
    "    sum=sum+fact\n",
    "    temp=temp//10      \n",
    "   \n",
    "print(\"\\n\")    \n",
    "print(f\"sum of factorial of digits is:\\t\",sum)\n",
    "if n==sum:\n",
    "    print(\"given number is strong number\")\n",
    "else:\n",
    "    print(\"given number is not stron number\")\n",
    "        \n"
   ]
  },
  {
   "cell_type": "code",
   "execution_count": null,
   "id": "ab74f3cb",
   "metadata": {},
   "outputs": [],
   "source": []
  }
 ],
 "metadata": {
  "kernelspec": {
   "display_name": "Python 3 (ipykernel)",
   "language": "python",
   "name": "python3"
  },
  "language_info": {
   "codemirror_mode": {
    "name": "ipython",
    "version": 3
   },
   "file_extension": ".py",
   "mimetype": "text/x-python",
   "name": "python",
   "nbconvert_exporter": "python",
   "pygments_lexer": "ipython3",
   "version": "3.9.7"
  }
 },
 "nbformat": 4,
 "nbformat_minor": 5
}
