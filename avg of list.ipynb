{
 "cells": [
  {
   "cell_type": "markdown",
   "id": "bcc29b96",
   "metadata": {},
   "source": [
    "# Average of List"
   ]
  },
  {
   "cell_type": "code",
   "execution_count": 17,
   "id": "c749fd3c",
   "metadata": {},
   "outputs": [
    {
     "data": {
      "text/plain": [
       "37.0"
      ]
     },
     "execution_count": 17,
     "metadata": {},
     "output_type": "execute_result"
    }
   ],
   "source": [
    "#find avg of the list\n",
    "a=[34,45,28,31,38,46]\n",
    "\n",
    "sum= a[0]+a[1]+a[2]+a[3]+a[4]+a[5]\n",
    "avg=sum/6\n",
    "avg"
   ]
  },
  {
   "cell_type": "code",
   "execution_count": 37,
   "id": "507c8e8c",
   "metadata": {
    "scrolled": true
   },
   "outputs": [
    {
     "data": {
      "text/plain": [
       "37.0"
      ]
     },
     "execution_count": 37,
     "metadata": {},
     "output_type": "execute_result"
    }
   ],
   "source": [
    "#avg of list using for loop\n",
    "sum=0\n",
    "n=len(a)\n",
    "for i in range(n):\n",
    "    sum=sum+a[i]\n",
    "avg= sum/n\n",
    "avg"
   ]
  },
  {
   "cell_type": "code",
   "execution_count": 9,
   "id": "90b9dae0",
   "metadata": {},
   "outputs": [
    {
     "name": "stdout",
     "output_type": "stream",
     "text": [
      "how many numbers you want to add\t5\n",
      "Enter Number :\t7\n",
      "Enter Number :\t8\n",
      "Enter Number :\t5\n",
      "Enter Number :\t6\n",
      "Enter Number :\t9\n"
     ]
    },
    {
     "data": {
      "text/plain": [
       "7.0"
      ]
     },
     "execution_count": 9,
     "metadata": {},
     "output_type": "execute_result"
    }
   ],
   "source": [
    "#avg of list using for loop\n",
    "sum=0\n",
    "n=int(input(\"how many numbers you want to add\\t\"))\n",
    "list1=[]\n",
    "for i in range(n):\n",
    "    num=int(input(f\"Enter Number :\\t\"))\n",
    "    list1.append(num)\n",
    "    sum=sum+list1[i]\n",
    "avg= sum/n\n",
    "avg     "
   ]
  },
  {
   "cell_type": "code",
   "execution_count": null,
   "id": "bc800247",
   "metadata": {},
   "outputs": [],
   "source": []
  }
 ],
 "metadata": {
  "kernelspec": {
   "display_name": "Python 3 (ipykernel)",
   "language": "python",
   "name": "python3"
  },
  "language_info": {
   "codemirror_mode": {
    "name": "ipython",
    "version": 3
   },
   "file_extension": ".py",
   "mimetype": "text/x-python",
   "name": "python",
   "nbconvert_exporter": "python",
   "pygments_lexer": "ipython3",
   "version": "3.9.7"
  }
 },
 "nbformat": 4,
 "nbformat_minor": 5
}
